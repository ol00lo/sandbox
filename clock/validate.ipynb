{
 "cells": [
  {
   "cell_type": "code",
   "execution_count": null,
   "id": "eae2c5fb",
   "metadata": {},
   "outputs": [],
   "source": [
    "import numpy as np\n",
    "import pandas as pd\n",
    "import cv2\n",
    "import os\n",
    "import tensorflow as tf\n",
    "from tensorflow.keras.models import load_model\n",
    "import keras\n",
    "import matplotlib.pyplot as plt  \n",
    "import tqdm\n",
    "import tensorflow as tf\n",
    "import numpy as np"
   ]
  },
  {
   "cell_type": "code",
   "execution_count": null,
   "id": "5af25ec2",
   "metadata": {},
   "outputs": [],
   "source": [
    "model_path = 'final_model4.keras'\n",
    "@keras.saving.register_keras_serializable()\n",
    "class SumMinutesLayer(tf.keras.layers.Layer):\n",
    "    def __init__(self, **kwargs):\n",
    "        super(SumMinutesLayer, self).__init__(**kwargs)\n",
    "    \n",
    "    def call(self, inputs):\n",
    "        hours, minutes = inputs\n",
    "        hours = tf.floor(hours)\n",
    "        sum_min = hours * 60 + minutes\n",
    "        return tf.stop_gradient(sum_min)\n",
    "    \n",
    "    def compute_output_shape(self, input_shape):\n",
    "        return input_shape[0]\n",
    "model = load_model(model_path, custom_objects={'SumMinutesLayer': SumMinutesLayer}, compile=False)"
   ]
  },
  {
   "cell_type": "code",
   "execution_count": null,
   "id": "7934cb55",
   "metadata": {},
   "outputs": [],
   "source": [
    "folder_path = [\n",
    "    'c:\\\\Users\\\\mymri\\\\repos\\\\clock_set/clock_01',      'c:\\\\Users\\\\mymri\\\\repos\\\\clock_set/clock_02_1',    'c:\\\\Users\\\\mymri\\\\repos\\\\clock_set/clock_02_2',\n",
    "    'c:\\\\Users\\\\mymri\\\\repos\\\\clock_set/clock_03',      'c:\\\\Users\\\\mymri\\\\repos\\\\clock_set/clock_04',      'c:\\\\Users\\\\mymri\\\\repos\\\\clock_set/clock_05',\n",
    "    'c:\\\\Users\\\\mymri\\\\repos\\\\clock_set/clock_06',      'c:\\\\Users\\\\mymri\\\\repos\\\\clock_set/clock_07',      'c:\\\\Users\\\\mymri\\\\repos\\\\clock_set/clock_08_1',\n",
    "    'c:\\\\Users\\\\mymri\\\\repos\\\\clock_set/clock_08_3',    'c:\\\\Users\\\\mymri\\\\repos\\\\clock_set/clock_09_1',    'c:\\\\Users\\\\mymri\\\\repos\\\\clock_set/clock_09_2',\n",
    "    'c:\\\\Users\\\\mymri\\\\repos\\\\clock_set/clock_09_2_1',  'c:\\\\Users\\\\mymri\\\\repos\\\\clock_set/clock_09_3_1',  'c:\\\\Users\\\\mymri\\\\repos\\\\clock_set/clock_09_3_2',\n",
    "    'c:\\\\Users\\\\mymri\\\\repos\\\\clock_set/clock_09_3_3',  'c:\\\\Users\\\\mymri\\\\repos\\\\clock_set/clock_10',      'c:\\\\Users\\\\mymri\\\\repos\\\\clock_set/clock_11',\n",
    "    'c:\\\\Users\\\\mymri\\\\repos\\\\clock_set/clock_12',      'c:\\\\Users\\\\mymri\\\\repos\\\\clock_set/clock_13',      'c:\\\\Users\\\\mymri\\\\repos\\\\clock_set/clock_14',\n",
    "    'c:\\\\Users\\\\mymri\\\\repos\\\\clock_set/clock_15',      'c:\\\\Users\\\\mymri\\\\repos\\\\clock_set/clock_16',      'c:\\\\Users\\\\mymri\\\\repos\\\\clock_set/clock_17',\n",
    "    'c:\\\\Users\\\\mymri\\\\repos\\\\clock_set/clock_18',      'c:\\\\Users\\\\mymri\\\\repos\\\\clock_set/clock_19',      'c:\\\\Users\\\\mymri\\\\repos\\\\clock_set/clock_20',\n",
    "    'c:\\\\Users\\\\mymri\\\\repos\\\\clock_set/clock_21',      'c:\\\\Users\\\\mymri\\\\repos\\\\clock_set/clock_22',      'c:\\\\Users\\\\mymri\\\\repos\\\\clock_set/clock_23']"
   ]
  },
  {
   "cell_type": "code",
   "execution_count": null,
   "id": "14a3a189",
   "metadata": {},
   "outputs": [],
   "source": [
    "def calculate_diff(y_true, y_pred):\n",
    "    y_true = np.fmod(y_true, 720)\n",
    "    y_pred = np.fmod(y_pred, 720)\n",
    "    return (y_pred - y_true + 360) % 720 - 360\n",
    "    "
   ]
  },
  {
   "cell_type": "code",
   "execution_count": null,
   "id": "afeb155e",
   "metadata": {},
   "outputs": [],
   "source": [
    "\n",
    "total = 0\n",
    "n = 0\n",
    "diff_per_folder = []\n",
    "\n",
    "for name in tqdm.tqdm(folder_path):\n",
    "    labels_path = os.path.join(name, 'dataset_info.csv')\n",
    "    labels_df = pd.read_csv(labels_path, usecols=[0, 1], header=None, names=['filename', 'label'])\n",
    "    difference = []\n",
    "\n",
    "    for index, row in tqdm.tqdm(labels_df.iterrows()):\n",
    "        if index != 0:\n",
    "            img_file = row['filename']\n",
    "            true_label = row['label']\n",
    "            true_label = float(true_label)\n",
    "\n",
    "            img_path = os.path.join(name, img_file)\n",
    "            img = cv2.imread(img_path)\n",
    "            if img is None:\n",
    "                print(f\"Ошибка при загрузке изображения: {img_path}\")\n",
    "                continue\n",
    "\n",
    "            img = cv2.resize(img, (224, 224))  \n",
    "            img = cv2.cvtColor(img, cv2.COLOR_BGR2RGB)\n",
    "\n",
    "            img_array = img.astype('float32') / 255.0  \n",
    "            img_array = np.expand_dims(img_array, axis=0)  \n",
    "\n",
    "            predictions = model.predict(img_array,  verbose=0)\n",
    "\n",
    "            diff = calculate_diff(true_label, predictions[2][0][0])\n",
    "            difference.append(diff)\n",
    "            accur = tf.abs(diff) <= 20\n",
    "            total += int(accur)\n",
    "            n += 1\n",
    "    diff_per_folder.append(difference)\n",
    "    print(f\"acc after {name} = {total/n} \")"
   ]
  },
  {
   "cell_type": "code",
   "execution_count": null,
   "id": "85584af3",
   "metadata": {},
   "outputs": [],
   "source": [
    "n = len(diff_per_folder)\n",
    "for i in range(0, 25):\n",
    "    x = np.abs(diff_per_folder[i])\n",
    "    count1 = np.sum(np.abs(x) < 5)\n",
    "    count2 = np.sum(np.abs(x) < 20)\n",
    "    print(f\"{sum(x)/len(diff_per_folder[i])};{count1/len(x)};{count2/len(x)}\")"
   ]
  },
  {
   "cell_type": "code",
   "execution_count": null,
   "id": "493e87ea",
   "metadata": {},
   "outputs": [],
   "source": [
    "total = 0\n",
    "n = 0\n",
    "\n",
    "for i in range(len(diff_per_folder)):\n",
    "    total += sum(np.abs(diff_per_folder[i]))\n",
    "    n += len(diff_per_folder[i])\n",
    "\n",
    "print(f\"average diff = {total/n}\") \n",
    "c5 = 0\n",
    "c20 = 0\n",
    "for i in range(len(diff_per_folder)):\n",
    "    c5 += np.sum(np.abs(diff_per_folder[i]) < 5)\n",
    "    c20 += np.sum(np.abs(diff_per_folder[i]) < 20)\n",
    "print(c5/n)\n",
    "print(c20/n)"
   ]
  },
  {
   "cell_type": "code",
   "execution_count": null,
   "id": "7985fca1",
   "metadata": {},
   "outputs": [],
   "source": [
    "total = 0\n",
    "n = 0\n",
    "count_5 = 0\n",
    "count_20 = 0\n",
    "indexes = [1, 2, 6, 7, 19, 20, 24, 25, 26, 27, 28, 29]\n",
    "for i in indexes:\n",
    "    total += sum(np.abs(diff_per_folder[i]))\n",
    "    n += len(diff_per_folder[i])\n",
    "    count_5 += np.sum(np.abs(diff_per_folder[i]) < 5)\n",
    "    count_20 += np.sum(np.abs(diff_per_folder[i]) < 20)\n",
    "\n",
    "print(f\"average diff = {total/n}\") \n",
    "print(count_5/n)\n",
    "print(count_20/n)"
   ]
  }
 ],
 "metadata": {
  "kernelspec": {
   "display_name": "tf218",
   "language": "python",
   "name": "python3"
  },
  "language_info": {
   "codemirror_mode": {
    "name": "ipython",
    "version": 3
   },
   "file_extension": ".py",
   "mimetype": "text/x-python",
   "name": "python",
   "nbconvert_exporter": "python",
   "pygments_lexer": "ipython3",
   "version": "3.12.7"
  }
 },
 "nbformat": 4,
 "nbformat_minor": 5
}
