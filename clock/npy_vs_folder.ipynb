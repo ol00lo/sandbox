{
 "cells": [
  {
   "cell_type": "code",
   "execution_count": null,
   "metadata": {},
   "outputs": [],
   "source": [
    "import tqdm\n",
    "import numpy as np\n",
    "import cv2\n",
    "from  train import make_set\n",
    "import matplotlib.pyplot as plt\n",
    "import os\n",
    "import keras\n",
    "import tensorflow as tf"
   ]
  },
  {
   "cell_type": "code",
   "execution_count": null,
   "metadata": {},
   "outputs": [],
   "source": [
    "def diff_for_one(y_true, y_pred):   \n",
    "    y_true = tf.math.floormod(y_true, 720)\n",
    "    y_pred = tf.math.floormod(y_pred, 720)\n",
    "    return (y_pred - y_true + 360) % 720 - 360\n",
    "\n",
    "@keras.saving.register_keras_serializable()\n",
    "def diff(y_true, y_pred):\n",
    "    y_true = tf.convert_to_tensor(y_true)\n",
    "    y_pred = tf.convert_to_tensor(y_pred)\n",
    "    y_true = tf.cast(y_true, dtype=tf.float32)\n",
    "    y_pred = tf.cast(y_pred, dtype=tf.float32)\n",
    "    y_true = tf.math.floormod(y_true, 720)\n",
    "    y_pred = tf.math.floormod(y_pred, 720)\n",
    "\n",
    "    return (y_pred - y_true + 360) % 720 - 360\n",
    "\n",
    "@keras.saving.register_keras_serializable()\n",
    "def custom_loss(y_true, y_pred):\n",
    "    return tf.reduce_mean(tf.square(diff(y_true, y_pred)))\n",
    "\n",
    "@keras.saving.register_keras_serializable()\n",
    "def custom_accuracy(y_true, y_pred):\n",
    "    return tf.reduce_mean(tf.cast(tf.abs(diff(y_true, y_pred)) <= 20, tf.float32))"
   ]
  },
  {
   "cell_type": "code",
   "execution_count": null,
   "metadata": {},
   "outputs": [],
   "source": [
    "train, valid = make_set(\"c:\\\\Users\\\\mymri\\\\repos\\\\clock_set\\\\\")"
   ]
  },
  {
   "cell_type": "code",
   "execution_count": null,
   "metadata": {},
   "outputs": [],
   "source": [
    "img_paths = []\n",
    "\n",
    "def prepare_data(data_list, output_dir, N, aug_sequence=None):\n",
    "    os.makedirs(output_dir, exist_ok=True)\n",
    "    \n",
    "    for num, i in enumerate(tqdm.tqdm(range(0, len(data_list), N))):\n",
    "        batch_data = []\n",
    "        batch_labels = []\n",
    "        \n",
    "        for j in range(i, min(i + N, len(data_list))):\n",
    "            image_path, label = data_list[j]\n",
    "            img_paths.append(image_path)\n",
    "            image = cv2.imread(image_path)\n",
    "            if image is None:\n",
    "                print(f\"Warning: Could not read image: {image_path}\")\n",
    "                continue\n",
    "            \n",
    "            image = cv2.resize(image, (224, 224))\n",
    "            image = cv2.cvtColor(image, cv2.COLOR_BGR2RGB)\n",
    "            batch_data.append(image)\n",
    "            batch_labels.append(label)\n",
    "        \n",
    "        if aug_sequence is not None:\n",
    "            batch_data = aug_sequence(images=np.array(batch_data))\n",
    "\n",
    "        np.save(os.path.join(output_dir, f\"data_{num}.npy\"), np.array(batch_data))\n",
    "        np.save(os.path.join(output_dir, f\"labels_{num}.npy\"), np.array(batch_labels))"
   ]
  },
  {
   "cell_type": "code",
   "execution_count": null,
   "metadata": {},
   "outputs": [],
   "source": [
    "prepare_data(train, \"train_data_dir\", N = 4096)"
   ]
  },
  {
   "cell_type": "code",
   "execution_count": null,
   "metadata": {},
   "outputs": [],
   "source": [
    "prepare_data(valid, \"valid_data_dir\", N = 4096)"
   ]
  },
  {
   "cell_type": "code",
   "execution_count": null,
   "metadata": {},
   "outputs": [],
   "source": [
    "def data_generator_from_folder(data_dir, batch_size):\n",
    "    data_files = sorted([f for f in os.listdir(data_dir) if f.startswith('data_') and f.endswith('.npy')])\n",
    "    label_files = sorted([f for f in os.listdir(data_dir) if f.startswith('labels_') and f.endswith('.npy')])\n",
    "\n",
    "    indices = list(range(len(data_files)))\n",
    "\n",
    "    batch_images = []  \n",
    "    batch_labels_slice = []\n",
    "    for ind in indices:\n",
    "        data_file = data_files[ind]\n",
    "        label_file = label_files[ind]\n",
    "        data_path = os.path.join(data_dir, data_file)\n",
    "        labels_path = os.path.join(data_dir, label_file)\n",
    "            \n",
    "        batch_data = np.load(data_path)\n",
    "        batch_labels = np.load(labels_path)\n",
    "            \n",
    "        for i in range(0, len(batch_data), batch_size):\n",
    "            batch_labels_slice.append(batch_labels[i:i + batch_size])\n",
    "            batch_images.append(tf.keras.applications.mobilenet.preprocess_input(batch_data[i:i + batch_size]))\n",
    "\n",
    "    return  batch_images, batch_labels_slice\n",
    "data, labels = data_generator_from_folder(\"train_data_dir\", 1)"
   ]
  },
  {
   "cell_type": "code",
   "execution_count": null,
   "metadata": {},
   "outputs": [],
   "source": [
    "for i in range(0,5):\n",
    "    im = data[i][0]\n",
    "    label = labels[i][0]\n",
    "    \n",
    "    im_from_f = cv2.imread(img_paths[i])\n",
    "\n",
    "    fig, axes = plt.subplots(1, 2, figsize=(10, 5))\n",
    "\n",
    "    axes[0].imshow(cv2.cvtColor(im_from_f, cv2.COLOR_BGR2RGB))\n",
    "    axes[0].set_title(f\"just path: {img_paths[i]}\")\n",
    "    axes[0].axis('off')\n",
    "\n",
    "    axes[1].imshow(im)\n",
    "    axes[1].set_title(f\"From Array: {label}\")\n",
    "    axes[1].axis('off')\n",
    "\n",
    "    plt.tight_layout()\n",
    "    plt.show()"
   ]
  }
 ],
 "metadata": {
  "kernelspec": {
   "display_name": "tf218",
   "language": "python",
   "name": "python3"
  },
  "language_info": {
   "codemirror_mode": {
    "name": "ipython",
    "version": 3
   },
   "file_extension": ".py",
   "mimetype": "text/x-python",
   "name": "python",
   "nbconvert_exporter": "python",
   "pygments_lexer": "ipython3",
   "version": "3.12.7"
  }
 },
 "nbformat": 4,
 "nbformat_minor": 2
}
